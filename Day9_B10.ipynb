{
 "cells": [
  {
   "cell_type": "code",
   "execution_count": null,
   "metadata": {},
   "outputs": [],
   "source": [
    "# Dictionaries of similar objects:"
   ]
  },
  {
   "cell_type": "code",
   "execution_count": 1,
   "metadata": {},
   "outputs": [],
   "source": [
    "fav_languages = {'swetha':'python','prashnat':'java','nisha':'swift','Narasimha':'c'}"
   ]
  },
  {
   "cell_type": "code",
   "execution_count": 2,
   "metadata": {},
   "outputs": [
    {
     "name": "stdout",
     "output_type": "stream",
     "text": [
      "Narasmiha's favourite language is C\n"
     ]
    }
   ],
   "source": [
    "language = fav_languages['Narasimha'].title()\n",
    "\n",
    "print(f\"Narasmiha's favourite language is {language}\")"
   ]
  },
  {
   "cell_type": "code",
   "execution_count": null,
   "metadata": {},
   "outputs": [],
   "source": [
    "{username : 'Faiyaz94',key-value pair------!!\n",
    "email id : 'codetraining01',\n",
    "first_name: 'Faiyaz',\n",
    "last_name :'shaik',}"
   ]
  },
  {
   "cell_type": "code",
   "execution_count": 5,
   "metadata": {},
   "outputs": [],
   "source": [
    "#looping through dictionaries:\n",
    "    \n",
    "user_0 ={'username' : 'Faiyaz94',\n",
    "'email_id' : 'codetraining01',\n",
    "'first_name': 'Faiyaz',\n",
    "'last_name' :'shaik',}"
   ]
  },
  {
   "cell_type": "code",
   "execution_count": 6,
   "metadata": {},
   "outputs": [
    {
     "name": "stdout",
     "output_type": "stream",
     "text": [
      "\n",
      "key:username\n",
      "\n",
      "value:Faiyaz94\n",
      "\n",
      "key:email_id\n",
      "\n",
      "value:codetraining01\n",
      "\n",
      "key:first_name\n",
      "\n",
      "value:Faiyaz\n",
      "\n",
      "key:last_name\n",
      "\n",
      "value:shaik\n"
     ]
    }
   ],
   "source": [
    "for key,value in user_0.items(): #---creating temp var---key, value --- a,b # items()-------key, value in a for loop.\n",
    "    print(f\"\\nkey:{key}\")---------f strings: \\n -----it will be printing on a new line....\n",
    "    print(f\"\\nvalue:{value}\") ----we can create two temp var and use it"
   ]
  },
  {
   "cell_type": "code",
   "execution_count": 7,
   "metadata": {},
   "outputs": [
    {
     "name": "stdout",
     "output_type": "stream",
     "text": [
      "\n",
      "key:username\n",
      "\n",
      "value:Faiyaz94\n",
      "\n",
      "key:email_id\n",
      "\n",
      "value:codetraining01\n",
      "\n",
      "key:first_name\n",
      "\n",
      "value:Faiyaz\n",
      "\n",
      "key:last_name\n",
      "\n",
      "value:shaik\n"
     ]
    }
   ],
   "source": [
    "for a,b in user_0.items(): # tenp var -- a,b\n",
    "    print(f\"\\nkey:{a}\")\n",
    "    print(f\"\\nvalue:{b}\")"
   ]
  },
  {
   "cell_type": "code",
   "execution_count": 8,
   "metadata": {},
   "outputs": [
    {
     "name": "stdout",
     "output_type": "stream",
     "text": [
      "username\n",
      "email_id\n",
      "first_name\n",
      "last_name\n"
     ]
    }
   ],
   "source": [
    "#req: only to get keys :\n",
    "\n",
    "for x in user_0.keys():\n",
    "    print(x)"
   ]
  },
  {
   "cell_type": "code",
   "execution_count": 9,
   "metadata": {},
   "outputs": [
    {
     "name": "stdout",
     "output_type": "stream",
     "text": [
      "Faiyaz94\n",
      "codetraining01\n",
      "Faiyaz\n",
      "shaik\n"
     ]
    }
   ],
   "source": [
    "#req: only to get values:\n",
    "\n",
    "for y in user_0.values():\n",
    "    print(y)"
   ]
  },
  {
   "cell_type": "code",
   "execution_count": null,
   "metadata": {},
   "outputs": [],
   "source": [
    "while loops and user acceptance:"
   ]
  }
 ],
 "metadata": {
  "kernelspec": {
   "display_name": "Python 3",
   "language": "python",
   "name": "python3"
  },
  "language_info": {
   "codemirror_mode": {
    "name": "ipython",
    "version": 3
   },
   "file_extension": ".py",
   "mimetype": "text/x-python",
   "name": "python",
   "nbconvert_exporter": "python",
   "pygments_lexer": "ipython3",
   "version": "3.7.4"
  }
 },
 "nbformat": 4,
 "nbformat_minor": 2
}
